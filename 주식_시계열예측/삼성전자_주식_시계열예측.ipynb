{
  "nbformat": 4,
  "nbformat_minor": 0,
  "metadata": {
    "colab": {
      "name": "삼성전자 주식 시계열예측.ipynb",
      "provenance": [],
      "authorship_tag": "ABX9TyPgA90smCXywepfElWvLXAQ",
      "include_colab_link": true
    },
    "kernelspec": {
      "name": "python3",
      "display_name": "Python 3"
    },
    "language_info": {
      "name": "python"
    }
  },
  "cells": [
    {
      "cell_type": "markdown",
      "metadata": {
        "id": "view-in-github",
        "colab_type": "text"
      },
      "source": [
        "<a href=\"https://colab.research.google.com/github/jiin124/Toy_project/blob/main/%EC%A3%BC%EC%8B%9D_%EC%8B%9C%EA%B3%84%EC%97%B4%EC%98%88%EC%B8%A1/%EC%82%BC%EC%84%B1%EC%A0%84%EC%9E%90_%EC%A3%BC%EC%8B%9D_%EC%8B%9C%EA%B3%84%EC%97%B4%EC%98%88%EC%B8%A1.ipynb\" target=\"_parent\"><img src=\"https://colab.research.google.com/assets/colab-badge.svg\" alt=\"Open In Colab\"/></a>"
      ]
    },
    {
      "cell_type": "markdown",
      "source": [
        "# 삼성전자 주식 시계열 예측\n",
        "\n",
        "https://finance.yahoo.com/quote/005930.KS?p=005930.KS&.tsrc=fin-srch\n",
        "여기서 5년동안의 주식 데이터를 다운로드하여 LSTM을 이용해 예측함. "
      ],
      "metadata": {
        "id": "HuWFAMlALgWk"
      }
    },
    {
      "cell_type": "code",
      "execution_count": 1,
      "metadata": {
        "id": "GJTjk6gT5Q2E"
      },
      "outputs": [],
      "source": [
        "import pandas as pd\n",
        "import numpy as np\n",
        "import matplotlib.pyplot as plt\n",
        "from keras.models import Sequential\n",
        "from keras.layers import LSTM,Dropout,Dense,Activation\n",
        "import datetime"
      ]
    },
    {
      "cell_type": "code",
      "source": [
        "df=pd.read_csv('/content/005930.KS.csv')\n",
        "df.head()"
      ],
      "metadata": {
        "colab": {
          "base_uri": "https://localhost:8080/",
          "height": 206
        },
        "id": "DAPfFDR35TaD",
        "outputId": "99800a69-6372-4ea1-ed45-b55d2dd2b69d"
      },
      "execution_count": 2,
      "outputs": [
        {
          "output_type": "execute_result",
          "data": {
            "text/plain": [
              "         Date   Open   High    Low  Close    Adj Close    Volume\n",
              "0  2017-06-02  45060  45960  45000  45960  39812.25781  12488750\n",
              "1  2017-06-05  46040  46360  45720  45940  39794.92969   7599400\n",
              "2  2017-06-07  46500  46500  45240  45300  39240.53516  13729400\n",
              "3  2017-06-08  45000  45580  45000  45160  39119.26563  13978750\n",
              "4  2017-06-09  45680  46440  45600  46100  39933.52734  11732850"
            ],
            "text/html": [
              "\n",
              "  <div id=\"df-3d09c483-34c2-48af-b281-358110e1cb63\">\n",
              "    <div class=\"colab-df-container\">\n",
              "      <div>\n",
              "<style scoped>\n",
              "    .dataframe tbody tr th:only-of-type {\n",
              "        vertical-align: middle;\n",
              "    }\n",
              "\n",
              "    .dataframe tbody tr th {\n",
              "        vertical-align: top;\n",
              "    }\n",
              "\n",
              "    .dataframe thead th {\n",
              "        text-align: right;\n",
              "    }\n",
              "</style>\n",
              "<table border=\"1\" class=\"dataframe\">\n",
              "  <thead>\n",
              "    <tr style=\"text-align: right;\">\n",
              "      <th></th>\n",
              "      <th>Date</th>\n",
              "      <th>Open</th>\n",
              "      <th>High</th>\n",
              "      <th>Low</th>\n",
              "      <th>Close</th>\n",
              "      <th>Adj Close</th>\n",
              "      <th>Volume</th>\n",
              "    </tr>\n",
              "  </thead>\n",
              "  <tbody>\n",
              "    <tr>\n",
              "      <th>0</th>\n",
              "      <td>2017-06-02</td>\n",
              "      <td>45060</td>\n",
              "      <td>45960</td>\n",
              "      <td>45000</td>\n",
              "      <td>45960</td>\n",
              "      <td>39812.25781</td>\n",
              "      <td>12488750</td>\n",
              "    </tr>\n",
              "    <tr>\n",
              "      <th>1</th>\n",
              "      <td>2017-06-05</td>\n",
              "      <td>46040</td>\n",
              "      <td>46360</td>\n",
              "      <td>45720</td>\n",
              "      <td>45940</td>\n",
              "      <td>39794.92969</td>\n",
              "      <td>7599400</td>\n",
              "    </tr>\n",
              "    <tr>\n",
              "      <th>2</th>\n",
              "      <td>2017-06-07</td>\n",
              "      <td>46500</td>\n",
              "      <td>46500</td>\n",
              "      <td>45240</td>\n",
              "      <td>45300</td>\n",
              "      <td>39240.53516</td>\n",
              "      <td>13729400</td>\n",
              "    </tr>\n",
              "    <tr>\n",
              "      <th>3</th>\n",
              "      <td>2017-06-08</td>\n",
              "      <td>45000</td>\n",
              "      <td>45580</td>\n",
              "      <td>45000</td>\n",
              "      <td>45160</td>\n",
              "      <td>39119.26563</td>\n",
              "      <td>13978750</td>\n",
              "    </tr>\n",
              "    <tr>\n",
              "      <th>4</th>\n",
              "      <td>2017-06-09</td>\n",
              "      <td>45680</td>\n",
              "      <td>46440</td>\n",
              "      <td>45600</td>\n",
              "      <td>46100</td>\n",
              "      <td>39933.52734</td>\n",
              "      <td>11732850</td>\n",
              "    </tr>\n",
              "  </tbody>\n",
              "</table>\n",
              "</div>\n",
              "      <button class=\"colab-df-convert\" onclick=\"convertToInteractive('df-3d09c483-34c2-48af-b281-358110e1cb63')\"\n",
              "              title=\"Convert this dataframe to an interactive table.\"\n",
              "              style=\"display:none;\">\n",
              "        \n",
              "  <svg xmlns=\"http://www.w3.org/2000/svg\" height=\"24px\"viewBox=\"0 0 24 24\"\n",
              "       width=\"24px\">\n",
              "    <path d=\"M0 0h24v24H0V0z\" fill=\"none\"/>\n",
              "    <path d=\"M18.56 5.44l.94 2.06.94-2.06 2.06-.94-2.06-.94-.94-2.06-.94 2.06-2.06.94zm-11 1L8.5 8.5l.94-2.06 2.06-.94-2.06-.94L8.5 2.5l-.94 2.06-2.06.94zm10 10l.94 2.06.94-2.06 2.06-.94-2.06-.94-.94-2.06-.94 2.06-2.06.94z\"/><path d=\"M17.41 7.96l-1.37-1.37c-.4-.4-.92-.59-1.43-.59-.52 0-1.04.2-1.43.59L10.3 9.45l-7.72 7.72c-.78.78-.78 2.05 0 2.83L4 21.41c.39.39.9.59 1.41.59.51 0 1.02-.2 1.41-.59l7.78-7.78 2.81-2.81c.8-.78.8-2.07 0-2.86zM5.41 20L4 18.59l7.72-7.72 1.47 1.35L5.41 20z\"/>\n",
              "  </svg>\n",
              "      </button>\n",
              "      \n",
              "  <style>\n",
              "    .colab-df-container {\n",
              "      display:flex;\n",
              "      flex-wrap:wrap;\n",
              "      gap: 12px;\n",
              "    }\n",
              "\n",
              "    .colab-df-convert {\n",
              "      background-color: #E8F0FE;\n",
              "      border: none;\n",
              "      border-radius: 50%;\n",
              "      cursor: pointer;\n",
              "      display: none;\n",
              "      fill: #1967D2;\n",
              "      height: 32px;\n",
              "      padding: 0 0 0 0;\n",
              "      width: 32px;\n",
              "    }\n",
              "\n",
              "    .colab-df-convert:hover {\n",
              "      background-color: #E2EBFA;\n",
              "      box-shadow: 0px 1px 2px rgba(60, 64, 67, 0.3), 0px 1px 3px 1px rgba(60, 64, 67, 0.15);\n",
              "      fill: #174EA6;\n",
              "    }\n",
              "\n",
              "    [theme=dark] .colab-df-convert {\n",
              "      background-color: #3B4455;\n",
              "      fill: #D2E3FC;\n",
              "    }\n",
              "\n",
              "    [theme=dark] .colab-df-convert:hover {\n",
              "      background-color: #434B5C;\n",
              "      box-shadow: 0px 1px 3px 1px rgba(0, 0, 0, 0.15);\n",
              "      filter: drop-shadow(0px 1px 2px rgba(0, 0, 0, 0.3));\n",
              "      fill: #FFFFFF;\n",
              "    }\n",
              "  </style>\n",
              "\n",
              "      <script>\n",
              "        const buttonEl =\n",
              "          document.querySelector('#df-3d09c483-34c2-48af-b281-358110e1cb63 button.colab-df-convert');\n",
              "        buttonEl.style.display =\n",
              "          google.colab.kernel.accessAllowed ? 'block' : 'none';\n",
              "\n",
              "        async function convertToInteractive(key) {\n",
              "          const element = document.querySelector('#df-3d09c483-34c2-48af-b281-358110e1cb63');\n",
              "          const dataTable =\n",
              "            await google.colab.kernel.invokeFunction('convertToInteractive',\n",
              "                                                     [key], {});\n",
              "          if (!dataTable) return;\n",
              "\n",
              "          const docLinkHtml = 'Like what you see? Visit the ' +\n",
              "            '<a target=\"_blank\" href=https://colab.research.google.com/notebooks/data_table.ipynb>data table notebook</a>'\n",
              "            + ' to learn more about interactive tables.';\n",
              "          element.innerHTML = '';\n",
              "          dataTable['output_type'] = 'display_data';\n",
              "          await google.colab.output.renderOutput(dataTable, element);\n",
              "          const docLink = document.createElement('div');\n",
              "          docLink.innerHTML = docLinkHtml;\n",
              "          element.appendChild(docLink);\n",
              "        }\n",
              "      </script>\n",
              "    </div>\n",
              "  </div>\n",
              "  "
            ]
          },
          "metadata": {},
          "execution_count": 2
        }
      ]
    },
    {
      "cell_type": "code",
      "source": [
        "df.info()"
      ],
      "metadata": {
        "colab": {
          "base_uri": "https://localhost:8080/"
        },
        "id": "eeD2KExg6XQD",
        "outputId": "63c11dd5-5785-4f31-b3aa-4ccfec208d44"
      },
      "execution_count": 3,
      "outputs": [
        {
          "output_type": "stream",
          "name": "stdout",
          "text": [
            "<class 'pandas.core.frame.DataFrame'>\n",
            "RangeIndex: 1225 entries, 0 to 1224\n",
            "Data columns (total 7 columns):\n",
            " #   Column     Non-Null Count  Dtype  \n",
            "---  ------     --------------  -----  \n",
            " 0   Date       1225 non-null   object \n",
            " 1   Open       1225 non-null   int64  \n",
            " 2   High       1225 non-null   int64  \n",
            " 3   Low        1225 non-null   int64  \n",
            " 4   Close      1225 non-null   int64  \n",
            " 5   Adj Close  1225 non-null   float64\n",
            " 6   Volume     1225 non-null   int64  \n",
            "dtypes: float64(1), int64(5), object(1)\n",
            "memory usage: 67.1+ KB\n"
          ]
        }
      ]
    },
    {
      "cell_type": "markdown",
      "source": [
        "# mid price"
      ],
      "metadata": {
        "id": "T5mi6pKR6toF"
      }
    },
    {
      "cell_type": "code",
      "source": [
        "high_prices=df['High'].values\n",
        "low_prices=df['Low'].values\n",
        "mid_prices=(high_prices+low_prices)/2"
      ],
      "metadata": {
        "id": "ze_V8f_I6Y8Y"
      },
      "execution_count": 4,
      "outputs": []
    },
    {
      "cell_type": "code",
      "source": [
        "seq_len=50\n",
        "sequence_length=seq_len+1\n",
        "\n",
        "result=[]\n",
        "for index in range(len(mid_prices)-sequence_length):\n",
        "  result.append(mid_prices[index:index+sequence_length])"
      ],
      "metadata": {
        "id": "JYYl7ZFD6pl5"
      },
      "execution_count": 5,
      "outputs": []
    },
    {
      "cell_type": "code",
      "source": [
        "result[:2]"
      ],
      "metadata": {
        "colab": {
          "base_uri": "https://localhost:8080/"
        },
        "id": "nrkbZZBmApEi",
        "outputId": "89f77fcc-aa18-45f2-b6a8-c7585c758b18"
      },
      "execution_count": 7,
      "outputs": [
        {
          "output_type": "execute_result",
          "data": {
            "text/plain": [
              "[array([45480., 46040., 45870., 45290., 46020., 45370., 45380., 45650.,\n",
              "        45550., 45700., 46060., 47680., 47800., 47900., 47600., 47940.,\n",
              "        48150., 47780., 48130., 47360., 47450., 47150., 47230., 47910.,\n",
              "        47870., 48610., 48640., 49420., 50490., 50750., 50770., 50620.,\n",
              "        50410., 50940., 50840., 50810., 50350., 49660., 50100., 48590.,\n",
              "        47580., 48190., 48970., 48060., 47840., 47760., 47870., 46820.,\n",
              "        45890., 44760., 45060.]),\n",
              " array([46040., 45870., 45290., 46020., 45370., 45380., 45650., 45550.,\n",
              "        45700., 46060., 47680., 47800., 47900., 47600., 47940., 48150.,\n",
              "        47780., 48130., 47360., 47450., 47150., 47230., 47910., 47870.,\n",
              "        48610., 48640., 49420., 50490., 50750., 50770., 50620., 50410.,\n",
              "        50940., 50840., 50810., 50350., 49660., 50100., 48590., 47580.,\n",
              "        48190., 48970., 48060., 47840., 47760., 47870., 46820., 45890.,\n",
              "        44760., 45060., 46190.])]"
            ]
          },
          "metadata": {},
          "execution_count": 7
        }
      ]
    },
    {
      "cell_type": "markdown",
      "source": [
        "최근 50일간의 데이터를 보고 에측\n",
        "윈도우의 개념 설명 필수"
      ],
      "metadata": {
        "id": "UnVURcSq7UNG"
      }
    },
    {
      "cell_type": "markdown",
      "source": [
        "# normalized data"
      ],
      "metadata": {
        "id": "2UIXjdsLA4Pj"
      }
    },
    {
      "cell_type": "code",
      "source": [
        "def normalize_windows(data):\n",
        "  normalized_data=[]\n",
        "  for window in data:\n",
        "    normalized_window=[((float(p)/float(window[0]))-1) for p in window]\n",
        "    normalized_data.append(normalized_window)\n",
        "  return np.array(normalized_data)\n",
        "\n",
        "result=normalize_windows(result)"
      ],
      "metadata": {
        "id": "aV_Y5HJK-lnp"
      },
      "execution_count": 9,
      "outputs": []
    },
    {
      "cell_type": "code",
      "source": [
        "result[:1174,:].shape"
      ],
      "metadata": {
        "colab": {
          "base_uri": "https://localhost:8080/"
        },
        "id": "eDOnP3GSEKvs",
        "outputId": "56e8669f-1d66-43f5-c946-f9b5f88952c9"
      },
      "execution_count": 12,
      "outputs": [
        {
          "output_type": "execute_result",
          "data": {
            "text/plain": [
              "(1174, 51)"
            ]
          },
          "metadata": {},
          "execution_count": 12
        }
      ]
    },
    {
      "cell_type": "markdown",
      "source": [
        "## Split train and test data"
      ],
      "metadata": {
        "id": "c_Q-ky2UC2jU"
      }
    },
    {
      "cell_type": "code",
      "source": [
        "# split train and test data\n",
        "row = int(round(result.shape[0] * 0.9))\n",
        "train = result[:row, :]\n",
        "np.random.shuffle(train)\n",
        "\n",
        "train"
      ],
      "metadata": {
        "colab": {
          "base_uri": "https://localhost:8080/"
        },
        "id": "xJ3HOMLmCwBP",
        "outputId": "f14035cc-6aff-4786-bb7e-4ed6d0e58e08"
      },
      "execution_count": 13,
      "outputs": [
        {
          "output_type": "execute_result",
          "data": {
            "text/plain": [
              "array([[ 0.        , -0.02256318, -0.05866426, ...,  0.06407942,\n",
              "         0.05595668,  0.01895307],\n",
              "       [ 0.        ,  0.00062112,  0.00559006, ...,  0.12546584,\n",
              "         0.11614907,  0.11180124],\n",
              "       [ 0.        ,  0.01753325,  0.00846433, ..., -0.01088271,\n",
              "        -0.00060459, -0.01027811],\n",
              "       ...,\n",
              "       [ 0.        , -0.00223339, -0.01954216, ..., -0.01898381,\n",
              "        -0.01563372, -0.00670017],\n",
              "       [ 0.        , -0.00150754,  0.0040201 , ..., -0.07085427,\n",
              "        -0.06532663, -0.06080402],\n",
              "       [ 0.        , -0.02247807, -0.01151316, ...,  0.0252193 ,\n",
              "         0.02960526,  0.03618421]])"
            ]
          },
          "metadata": {},
          "execution_count": 13
        }
      ]
    },
    {
      "cell_type": "code",
      "source": [
        "x_train = train[:, :-1]\n",
        "x_train = np.reshape(x_train, (x_train.shape[0], x_train.shape[1], 1))\n",
        "y_train = train[:, -1]\n",
        "\n",
        "x_test = result[row:, :-1]\n",
        "x_test = np.reshape(x_test, (x_test.shape[0], x_test.shape[1], 1))\n",
        "y_test = result[row:, -1]\n",
        "\n",
        "x_train.shape, x_test.shape"
      ],
      "metadata": {
        "colab": {
          "base_uri": "https://localhost:8080/"
        },
        "id": "MljViovLFze_",
        "outputId": "763cf560-8358-4c38-917e-7919a4d0cada"
      },
      "execution_count": 14,
      "outputs": [
        {
          "output_type": "execute_result",
          "data": {
            "text/plain": [
              "((1057, 50, 1), (117, 50, 1))"
            ]
          },
          "metadata": {},
          "execution_count": 14
        }
      ]
    },
    {
      "cell_type": "code",
      "source": [
        "model=Sequential()\n",
        "model.add(LSTM(50,return_sequences=True,input_shape=(50,1)))\n",
        "model.add(LSTM(64,return_sequences=False))\n",
        "model.add(Dense(1,activation='linear'))\n",
        "model.compile(loss='mse',optimizer='rmsprop')\n",
        "model.summary()"
      ],
      "metadata": {
        "colab": {
          "base_uri": "https://localhost:8080/"
        },
        "id": "7gjP4f5PG3iY",
        "outputId": "623c2155-8d0a-4ec4-e2b6-02c40104b460"
      },
      "execution_count": 15,
      "outputs": [
        {
          "output_type": "stream",
          "name": "stdout",
          "text": [
            "Model: \"sequential\"\n",
            "_________________________________________________________________\n",
            " Layer (type)                Output Shape              Param #   \n",
            "=================================================================\n",
            " lstm (LSTM)                 (None, 50, 50)            10400     \n",
            "                                                                 \n",
            " lstm_1 (LSTM)               (None, 64)                29440     \n",
            "                                                                 \n",
            " dense (Dense)               (None, 1)                 65        \n",
            "                                                                 \n",
            "=================================================================\n",
            "Total params: 39,905\n",
            "Trainable params: 39,905\n",
            "Non-trainable params: 0\n",
            "_________________________________________________________________\n"
          ]
        }
      ]
    },
    {
      "cell_type": "code",
      "source": [
        "start_time = datetime.datetime.now().strftime('%Y_%m_%d_%H_%M_%S')\n",
        "\n",
        "model.fit(x_train, y_train,\n",
        "    validation_data=(x_test, y_test),\n",
        "    batch_size=10,\n",
        "    epochs=20,\n",
        "    )"
      ],
      "metadata": {
        "colab": {
          "base_uri": "https://localhost:8080/"
        },
        "id": "xqXAPMvUJNJG",
        "outputId": "eb17d555-f21b-49fd-e1f8-c134630c933d"
      },
      "execution_count": 17,
      "outputs": [
        {
          "output_type": "stream",
          "name": "stdout",
          "text": [
            "Epoch 1/20\n",
            "106/106 [==============================] - 8s 43ms/step - loss: 0.0024 - val_loss: 4.1247e-04\n",
            "Epoch 2/20\n",
            "106/106 [==============================] - 4s 35ms/step - loss: 0.0010 - val_loss: 4.2060e-04\n",
            "Epoch 3/20\n",
            "106/106 [==============================] - 4s 35ms/step - loss: 7.5322e-04 - val_loss: 4.4944e-04\n",
            "Epoch 4/20\n",
            "106/106 [==============================] - 5s 51ms/step - loss: 5.3441e-04 - val_loss: 3.6935e-04\n",
            "Epoch 5/20\n",
            "106/106 [==============================] - 4s 35ms/step - loss: 5.0943e-04 - val_loss: 1.7304e-04\n",
            "Epoch 6/20\n",
            "106/106 [==============================] - 4s 35ms/step - loss: 3.9662e-04 - val_loss: 2.0342e-04\n",
            "Epoch 7/20\n",
            "106/106 [==============================] - 4s 35ms/step - loss: 3.6690e-04 - val_loss: 1.3659e-04\n",
            "Epoch 8/20\n",
            "106/106 [==============================] - 4s 36ms/step - loss: 3.2159e-04 - val_loss: 1.2826e-04\n",
            "Epoch 9/20\n",
            "106/106 [==============================] - 4s 35ms/step - loss: 3.1004e-04 - val_loss: 3.6980e-04\n",
            "Epoch 10/20\n",
            "106/106 [==============================] - 4s 35ms/step - loss: 2.8038e-04 - val_loss: 3.4479e-04\n",
            "Epoch 11/20\n",
            "106/106 [==============================] - 4s 35ms/step - loss: 3.0407e-04 - val_loss: 1.3262e-04\n",
            "Epoch 12/20\n",
            "106/106 [==============================] - 4s 35ms/step - loss: 2.9854e-04 - val_loss: 1.6990e-04\n",
            "Epoch 13/20\n",
            "106/106 [==============================] - 4s 35ms/step - loss: 2.9813e-04 - val_loss: 1.2157e-04\n",
            "Epoch 14/20\n",
            "106/106 [==============================] - 4s 35ms/step - loss: 2.9377e-04 - val_loss: 1.3180e-04\n",
            "Epoch 15/20\n",
            "106/106 [==============================] - 4s 35ms/step - loss: 2.8842e-04 - val_loss: 1.9891e-04\n",
            "Epoch 16/20\n",
            "106/106 [==============================] - 4s 35ms/step - loss: 2.8557e-04 - val_loss: 2.1687e-04\n",
            "Epoch 17/20\n",
            "106/106 [==============================] - 4s 35ms/step - loss: 2.9400e-04 - val_loss: 1.4404e-04\n",
            "Epoch 18/20\n",
            "106/106 [==============================] - 4s 35ms/step - loss: 2.7576e-04 - val_loss: 1.3652e-04\n",
            "Epoch 19/20\n",
            "106/106 [==============================] - 4s 36ms/step - loss: 2.8797e-04 - val_loss: 1.1372e-04\n",
            "Epoch 20/20\n",
            "106/106 [==============================] - 4s 36ms/step - loss: 2.7705e-04 - val_loss: 1.1707e-04\n"
          ]
        },
        {
          "output_type": "execute_result",
          "data": {
            "text/plain": [
              "<keras.callbacks.History at 0x7fd2b2978610>"
            ]
          },
          "metadata": {},
          "execution_count": 17
        }
      ]
    },
    {
      "cell_type": "code",
      "source": [
        "pred = model.predict(x_test)\n",
        "\n",
        "fig = plt.figure(facecolor='white', figsize=(20, 10))\n",
        "ax = fig.add_subplot(111)\n",
        "ax.plot(y_test, label='True')\n",
        "ax.plot(pred, label='Prediction')\n",
        "ax.legend()\n",
        "plt.show()"
      ],
      "metadata": {
        "colab": {
          "base_uri": "https://localhost:8080/",
          "height": 335
        },
        "id": "SwYVzkN1J8Fk",
        "outputId": "2195fffd-186a-4f6c-89ec-e9cf09412320"
      },
      "execution_count": 18,
      "outputs": [
        {
          "output_type": "display_data",
          "data": {
            "text/plain": [
              "<Figure size 1440x720 with 1 Axes>"
            ],
            "image/png": "[encoded data removed]"
          },
          "metadata": {}
        }
      ]
    },
    {
      "cell_type": "code",
      "source": [
        ""
      ],
      "metadata": {
        "id": "nROV3AELK_2S"
      },
      "execution_count": null,
      "outputs": []
    }
  ]
}